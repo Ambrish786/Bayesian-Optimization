{
 "cells": [
  {
   "cell_type": "code",
   "execution_count": 1,
   "metadata": {},
   "outputs": [
    {
     "name": "stdout",
     "output_type": "stream",
     "text": [
      "Optimized candidate X value: tensor([[97.5928,  9.6907]], dtype=torch.float64)\n",
      "Acquisition value: tensor(-0.2876, dtype=torch.float64)\n"
     ]
    }
   ],
   "source": [
    "import torch\n",
    "import pandas as pd\n",
    "import numpy as np\n",
    "from botorch.models import SingleTaskGP\n",
    "from botorch.models.transforms import Normalize, Standardize\n",
    "from botorch.fit import fit_gpytorch_mll\n",
    "from gpytorch.mlls import ExactMarginalLogLikelihood\n",
    "from botorch.acquisition import LogExpectedImprovement\n",
    "from botorch.optim import optimize_acqf\n",
    "\n",
    "# Generate a sample dataset related to material science properties\n",
    "np.random.seed(42)\n",
    "\n",
    "# Let's assume X1 and X2 represent two different processing parameters, such as temperature and pressure\n",
    "# Y could represent a material property like tensile strength\n",
    "\n",
    "# Generate random temperature and pressure values\n",
    "temperature = np.random.uniform(20, 100, 20)  # Temperature in degrees Celsius\n",
    "pressure = np.random.uniform(1, 10, 20)  # Pressure in MPa\n",
    "\n",
    "# Let's assume the tensile strength increases with temperature and pressure in a non-linear way\n",
    "tensile_strength = 10 + 0.5 * temperature + 0.3 * pressure + np.random.normal(0, 1, 20)\n",
    "\n",
    "# Create a DataFrame\n",
    "data = pd.DataFrame({\n",
    "    'Temperature': temperature,\n",
    "    'Pressure': pressure,\n",
    "    'TensileStrength': tensile_strength\n",
    "})\n",
    "\n",
    "# Save the dataset to a CSV file\n",
    "data.to_csv('sample_materials_data.csv', index=False)\n",
    "\n",
    "# Load the data into tensors\n",
    "X = torch.tensor(data[['Temperature', 'Pressure']].values, dtype=torch.double)\n",
    "Y = torch.tensor(data['TensileStrength'].values, dtype=torch.double).unsqueeze(-1)\n",
    "\n",
    "# Initialize the Gaussian Process model with normalization and standardization\n",
    "gp = SingleTaskGP(\n",
    "    train_X=X,\n",
    "    train_Y=Y,\n",
    "    input_transform=Normalize(d=X.shape[1]),\n",
    "    outcome_transform=Standardize(m=1),\n",
    ")\n",
    "\n",
    "# Fit the model\n",
    "mll = ExactMarginalLogLikelihood(gp.likelihood, gp)\n",
    "fit_gpytorch_mll(mll)\n",
    "\n",
    "# Define the acquisition function\n",
    "logNEI = LogExpectedImprovement(model=gp, best_f=Y.max())\n",
    "\n",
    "# Define the bounds based on the generated data\n",
    "bounds = torch.stack([X.min(dim=0).values, X.max(dim=0).values]).to(torch.double)\n",
    "\n",
    "# Optimize the acquisition function\n",
    "candidate, acq_value = optimize_acqf(\n",
    "    logNEI,\n",
    "    bounds=bounds,\n",
    "    q=1,\n",
    "    num_restarts=5,\n",
    "    raw_samples=20,\n",
    ")\n",
    "\n",
    "print(\"Optimized candidate X value:\", candidate)\n",
    "print(\"Acquisition value:\", acq_value)\n"
   ]
  }
 ],
 "metadata": {
  "kernelspec": {
   "display_name": "Python 3",
   "language": "python",
   "name": "python3"
  },
  "language_info": {
   "codemirror_mode": {
    "name": "ipython",
    "version": 3
   },
   "file_extension": ".py",
   "mimetype": "text/x-python",
   "name": "python",
   "nbconvert_exporter": "python",
   "pygments_lexer": "ipython3",
   "version": "3.12.4"
  }
 },
 "nbformat": 4,
 "nbformat_minor": 2
}
